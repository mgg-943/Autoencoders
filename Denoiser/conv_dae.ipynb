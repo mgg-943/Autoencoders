{
 "cells": [
  {
   "cell_type": "code",
   "execution_count": 4,
   "id": "2bc73e4f",
   "metadata": {},
   "outputs": [],
   "source": [
    "import tensorflow as tf\n",
    "import numpy as np\n",
    "import matplotlib.pyplot as plt\n",
    "\n",
    "from keras.datasets import fashion_mnist\n",
    "from keras.models import Model \n",
    "from keras.layers import Input, Dense, Conv2D, Conv2DTranspose\n"
   ]
  },
  {
   "cell_type": "code",
   "execution_count": 5,
   "id": "8f9f7821",
   "metadata": {},
   "outputs": [],
   "source": [
    "#Define the following variables\n",
    "\n",
    "(x_train, _), (x_test, _) = fashion_mnist.load_data()\n",
    "\n",
    "X_train = x_train.astype('float32') / 255.\n",
    "X_test = x_test.astype('float32') / 255.\n",
    "\t\n",
    "input_dim = (28,28,1)\n",
    "latent_dim = (7,7,1)\n",
    "output_dim = (28,28,1)"
   ]
  },
  {
   "cell_type": "code",
   "execution_count": 6,
   "id": "4ba4f8eb",
   "metadata": {},
   "outputs": [],
   "source": [
    "x = Input(shape=(28,28,1))\n",
    "x1 = Conv2D(32, 3, activation=\"relu\", strides=2, padding=\"same\")(x) # imagen de 14x14\n",
    "h = Conv2D(64, 3, activation=\"relu\", strides=2, padding=\"same\")(x1) # 7x7\n",
    "r1 = Conv2DTranspose(32, 3, activation=\"relu\", strides=2, padding=\"same\")(h) # imagen de 14x14\n",
    "r = Conv2DTranspose(1, 3, activation=\"sigmoid\",strides=2, padding=\"same\")(r1) # 28 x 28\n"
   ]
  },
  {
   "cell_type": "code",
   "execution_count": 7,
   "id": "c87f7ae4",
   "metadata": {},
   "outputs": [],
   "source": [
    "# Loss Functions\n",
    "\n",
    "# MSE\n",
    "from keras.losses import MeanSquaredError\n",
    "mse_loss = MeanSquaredError()\n",
    "\n",
    "# Structural Similarity Index (SSIM)\n",
    "def ssim_loss(y_true, y_pred):\n",
    "    return 1 - tf.reduce_mean(tf.image.ssim(y_true, y_pred, max_val=255))\n",
    "\n",
    "\n",
    "# Define the corruption process\n",
    "\t\n",
    "def corruption_process(X):\n",
    "    epsilon = np.zeros_like(X)\n",
    "    epsilon += np.random.normal(0,0.1,size=X.shape)\n",
    "    X_tilde = X +  epsilon \n",
    "    X_tilde = np.clip(X_tilde,0.,1.)\n",
    "\n",
    "    return X_tilde\n",
    "\n",
    "\n",
    "\n"
   ]
  },
  {
   "cell_type": "code",
   "execution_count": 9,
   "id": "24acfafa",
   "metadata": {},
   "outputs": [],
   "source": [
    "# Encoder and decoder\n",
    "encoder = Model(inputs=x, outputs=h)\n",
    "decoder = Model(inputs=h, outputs=r)\n"
   ]
  },
  {
   "cell_type": "code",
   "execution_count": 11,
   "id": "fee717ed",
   "metadata": {},
   "outputs": [
    {
     "data": {
      "text/html": [
       "<pre style=\"white-space:pre;overflow-x:auto;line-height:normal;font-family:Menlo,'DejaVu Sans Mono',consolas,'Courier New',monospace\"><span style=\"font-weight: bold\">Model: \"autoencoder_1\"</span>\n",
       "</pre>\n"
      ],
      "text/plain": [
       "\u001b[1mModel: \"autoencoder_1\"\u001b[0m\n"
      ]
     },
     "metadata": {},
     "output_type": "display_data"
    },
    {
     "data": {
      "text/html": [
       "<pre style=\"white-space:pre;overflow-x:auto;line-height:normal;font-family:Menlo,'DejaVu Sans Mono',consolas,'Courier New',monospace\">┏━━━━━━━━━━━━━━━━━━━━━━━━━━━━━━━━━┳━━━━━━━━━━━━━━━━━━━━━━━━┳━━━━━━━━━━━━━━━┓\n",
       "┃<span style=\"font-weight: bold\"> Layer (type)                    </span>┃<span style=\"font-weight: bold\"> Output Shape           </span>┃<span style=\"font-weight: bold\">       Param # </span>┃\n",
       "┡━━━━━━━━━━━━━━━━━━━━━━━━━━━━━━━━━╇━━━━━━━━━━━━━━━━━━━━━━━━╇━━━━━━━━━━━━━━━┩\n",
       "│ functional_2 (<span style=\"color: #0087ff; text-decoration-color: #0087ff\">Functional</span>)       │ (<span style=\"color: #00d7ff; text-decoration-color: #00d7ff\">None</span>, <span style=\"color: #00af00; text-decoration-color: #00af00\">7</span>, <span style=\"color: #00af00; text-decoration-color: #00af00\">7</span>, <span style=\"color: #00af00; text-decoration-color: #00af00\">64</span>)       │        <span style=\"color: #00af00; text-decoration-color: #00af00\">18,816</span> │\n",
       "├─────────────────────────────────┼────────────────────────┼───────────────┤\n",
       "│ functional_3 (<span style=\"color: #0087ff; text-decoration-color: #0087ff\">Functional</span>)       │ (<span style=\"color: #00d7ff; text-decoration-color: #00d7ff\">None</span>, <span style=\"color: #00af00; text-decoration-color: #00af00\">28</span>, <span style=\"color: #00af00; text-decoration-color: #00af00\">28</span>, <span style=\"color: #00af00; text-decoration-color: #00af00\">1</span>)      │        <span style=\"color: #00af00; text-decoration-color: #00af00\">18,753</span> │\n",
       "└─────────────────────────────────┴────────────────────────┴───────────────┘\n",
       "</pre>\n"
      ],
      "text/plain": [
       "┏━━━━━━━━━━━━━━━━━━━━━━━━━━━━━━━━━┳━━━━━━━━━━━━━━━━━━━━━━━━┳━━━━━━━━━━━━━━━┓\n",
       "┃\u001b[1m \u001b[0m\u001b[1mLayer (type)                   \u001b[0m\u001b[1m \u001b[0m┃\u001b[1m \u001b[0m\u001b[1mOutput Shape          \u001b[0m\u001b[1m \u001b[0m┃\u001b[1m \u001b[0m\u001b[1m      Param #\u001b[0m\u001b[1m \u001b[0m┃\n",
       "┡━━━━━━━━━━━━━━━━━━━━━━━━━━━━━━━━━╇━━━━━━━━━━━━━━━━━━━━━━━━╇━━━━━━━━━━━━━━━┩\n",
       "│ functional_2 (\u001b[38;5;33mFunctional\u001b[0m)       │ (\u001b[38;5;45mNone\u001b[0m, \u001b[38;5;34m7\u001b[0m, \u001b[38;5;34m7\u001b[0m, \u001b[38;5;34m64\u001b[0m)       │        \u001b[38;5;34m18,816\u001b[0m │\n",
       "├─────────────────────────────────┼────────────────────────┼───────────────┤\n",
       "│ functional_3 (\u001b[38;5;33mFunctional\u001b[0m)       │ (\u001b[38;5;45mNone\u001b[0m, \u001b[38;5;34m28\u001b[0m, \u001b[38;5;34m28\u001b[0m, \u001b[38;5;34m1\u001b[0m)      │        \u001b[38;5;34m18,753\u001b[0m │\n",
       "└─────────────────────────────────┴────────────────────────┴───────────────┘\n"
      ]
     },
     "metadata": {},
     "output_type": "display_data"
    },
    {
     "data": {
      "text/html": [
       "<pre style=\"white-space:pre;overflow-x:auto;line-height:normal;font-family:Menlo,'DejaVu Sans Mono',consolas,'Courier New',monospace\"><span style=\"font-weight: bold\"> Total params: </span><span style=\"color: #00af00; text-decoration-color: #00af00\">37,569</span> (146.75 KB)\n",
       "</pre>\n"
      ],
      "text/plain": [
       "\u001b[1m Total params: \u001b[0m\u001b[38;5;34m37,569\u001b[0m (146.75 KB)\n"
      ]
     },
     "metadata": {},
     "output_type": "display_data"
    },
    {
     "data": {
      "text/html": [
       "<pre style=\"white-space:pre;overflow-x:auto;line-height:normal;font-family:Menlo,'DejaVu Sans Mono',consolas,'Courier New',monospace\"><span style=\"font-weight: bold\"> Trainable params: </span><span style=\"color: #00af00; text-decoration-color: #00af00\">37,569</span> (146.75 KB)\n",
       "</pre>\n"
      ],
      "text/plain": [
       "\u001b[1m Trainable params: \u001b[0m\u001b[38;5;34m37,569\u001b[0m (146.75 KB)\n"
      ]
     },
     "metadata": {},
     "output_type": "display_data"
    },
    {
     "data": {
      "text/html": [
       "<pre style=\"white-space:pre;overflow-x:auto;line-height:normal;font-family:Menlo,'DejaVu Sans Mono',consolas,'Courier New',monospace\"><span style=\"font-weight: bold\"> Non-trainable params: </span><span style=\"color: #00af00; text-decoration-color: #00af00\">0</span> (0.00 B)\n",
       "</pre>\n"
      ],
      "text/plain": [
       "\u001b[1m Non-trainable params: \u001b[0m\u001b[38;5;34m0\u001b[0m (0.00 B)\n"
      ]
     },
     "metadata": {},
     "output_type": "display_data"
    }
   ],
   "source": [
    "class autoencoder(Model):\n",
    "    def __init__(self, encoder, decoder, **kwargs):\n",
    "        super().__init__(**kwargs)\n",
    "        self.encoder = encoder\n",
    "        self.decoder = decoder\n",
    "\n",
    "    def call(self, x):\n",
    "        z = self.encoder(x)\n",
    "        r = self.decoder(z)\n",
    "        return r\n",
    "\n",
    "AutoEncoder = autoencoder(encoder, decoder)\n",
    "AutoEncoder.compile(optimizer='adam', loss=ssim_loss)\n",
    "\n",
    "AutoEncoder.summary()"
   ]
  },
  {
   "cell_type": "code",
   "execution_count": 13,
   "id": "2b23172c",
   "metadata": {},
   "outputs": [
    {
     "name": "stdout",
     "output_type": "stream",
     "text": [
      "Epoch 1/5\n",
      "\u001b[1m469/469\u001b[0m \u001b[32m━━━━━━━━━━━━━━━━━━━━\u001b[0m\u001b[37m\u001b[0m \u001b[1m20s\u001b[0m 43ms/step - loss: 1.0454e-04 - val_loss: 9.9241e-05\n",
      "Epoch 2/5\n",
      "\u001b[1m469/469\u001b[0m \u001b[32m━━━━━━━━━━━━━━━━━━━━\u001b[0m\u001b[37m\u001b[0m \u001b[1m16s\u001b[0m 33ms/step - loss: 9.8471e-05 - val_loss: 9.5088e-05\n",
      "Epoch 3/5\n",
      "\u001b[1m469/469\u001b[0m \u001b[32m━━━━━━━━━━━━━━━━━━━━\u001b[0m\u001b[37m\u001b[0m \u001b[1m20s\u001b[0m 32ms/step - loss: 9.3919e-05 - val_loss: 9.2120e-05\n",
      "Epoch 4/5\n",
      "\u001b[1m469/469\u001b[0m \u001b[32m━━━━━━━━━━━━━━━━━━━━\u001b[0m\u001b[37m\u001b[0m \u001b[1m15s\u001b[0m 33ms/step - loss: 9.1013e-05 - val_loss: 9.5761e-05\n",
      "Epoch 5/5\n",
      "\u001b[1m469/469\u001b[0m \u001b[32m━━━━━━━━━━━━━━━━━━━━\u001b[0m\u001b[37m\u001b[0m \u001b[1m16s\u001b[0m 34ms/step - loss: 8.8304e-05 - val_loss: 8.6482e-05\n"
     ]
    }
   ],
   "source": [
    "epochs = 5\n",
    "batch_size = 128\n",
    "X_train_corrupted = corruption_process(X_train)\n",
    "X_test_corrupted = corruption_process(X_test)\n",
    "history = AutoEncoder.fit(X_train_corrupted, X_train, batch_size=batch_size, epochs=epochs, verbose=1, validation_data=(X_test_corrupted,X_test))"
   ]
  },
  {
   "cell_type": "code",
   "execution_count": 14,
   "id": "17698390",
   "metadata": {},
   "outputs": [
    {
     "name": "stdout",
     "output_type": "stream",
     "text": [
      "\u001b[1m313/313\u001b[0m \u001b[32m━━━━━━━━━━━━━━━━━━━━\u001b[0m\u001b[37m\u001b[0m \u001b[1m2s\u001b[0m 5ms/step\n"
     ]
    }
   ],
   "source": [
    "denoised_imgs = AutoEncoder.predict(X_test_corrupted)"
   ]
  },
  {
   "cell_type": "code",
   "execution_count": 17,
   "id": "af17de00",
   "metadata": {},
   "outputs": [
    {
     "data": {
      "image/png": "[encoded data removed]",
      "text/plain": [
       "<Figure size 1000x500 with 2 Axes>"
      ]
     },
     "metadata": {},
     "output_type": "display_data"
    }
   ],
   "source": [
    "# Show a sample of the recontructed images\n",
    "\n",
    "m = np.random.randint(0, len(X_test)-1)\n",
    "\n",
    "image1 = X_test_corrupted[0]\n",
    "#latent_image = latent_imgs[0]\n",
    "image2 = denoised_imgs[0]\n",
    "\n",
    "fig, axes = plt.subplots(1, 2, figsize=(10, 5)) # 1 row, 2 columns, adjust figsize as needed\n",
    "\n",
    "# Display Image 1 in the first subplot\n",
    "axes[0].imshow(image1, cmap='gray') # Use a colormap suitable for your image type\n",
    "axes[0].set_title('Noisy Image')\n",
    "axes[0].axis('off') # Turn off axis labels and ticks for cleaner display\n",
    "\n",
    "# Display Image 2 in the first subplot\n",
    "axes[1].imshow(image2, cmap='gray') # Use a colormap suitable for your image type\n",
    "axes[1].set_title('Clean Image')\n",
    "axes[1].axis('off') # Turn off axis labels and ticks for cleaner display\n",
    "\n",
    "plt.tight_layout() # Adjust subplot parameters for a tight layout\n",
    "plt.show()"
   ]
  },
  {
   "cell_type": "code",
   "execution_count": 53,
   "id": "c15a5586",
   "metadata": {},
   "outputs": [
    {
     "name": "stdout",
     "output_type": "stream",
     "text": [
      "\u001b[1m1/1\u001b[0m \u001b[32m━━━━━━━━━━━━━━━━━━━━\u001b[0m\u001b[37m\u001b[0m \u001b[1m0s\u001b[0m 39ms/step\n"
     ]
    }
   ],
   "source": [
    "from PIL import Image\n",
    "\n",
    "img = Image.open('pengbrew.png')\n",
    "new_size = (28,28)\n",
    "img2 = img.resize(new_size)\n",
    "np_img = np.asarray(img2) / 255.\n",
    "noisy_img = np.reshape(corruption_process(np_img), (28,28,1))\n",
    "\n",
    "denoised_img2 = np.reshape(AutoEncoder.predict(noisy_img), (28,28,4))\n",
    "denoised_img2 = tf.reduce_mean(denoised_img2, axis=-1)"
   ]
  },
  {
   "cell_type": "code",
   "execution_count": 54,
   "id": "5aa20e0e",
   "metadata": {},
   "outputs": [
    {
     "data": {
      "image/png": "[encoded data removed]",
      "text/plain": [
       "<Figure size 1000x500 with 3 Axes>"
      ]
     },
     "metadata": {},
     "output_type": "display_data"
    }
   ],
   "source": [
    "fig, axes = plt.subplots(1, 3, figsize=(10, 5)) # 1 row, 2 columns, adjust figsize as needed\n",
    "\n",
    "# Display Image 1 in the first subplot\n",
    "axes[0].imshow(np_img, cmap='gray') # Use a colormap suitable for your image type\n",
    "axes[0].set_title('Original Image')\n",
    "axes[0].axis('off') # Turn off axis labels and ticks for cleaner display\n",
    "\n",
    "# Display Image 2 in the first subplot\n",
    "axes[1].imshow(noisy_img, cmap='gray') # Use a colormap suitable for your image type\n",
    "axes[1].set_title('Corrupted Image')\n",
    "axes[1].axis('off') # Turn off axis labels and ticks for cleaner display\n",
    "\n",
    "# Display Image 2 in the first subplot\n",
    "axes[2].imshow(denoised_img2, cmap='gray') # Use a colormap suitable for your image type\n",
    "axes[2].set_title('Denoised Image')\n",
    "axes[2].axis('off') # Turn off axis labels and ticks for cleaner display\n",
    "\n",
    "\n",
    "plt.tight_layout() # Adjust subplot parameters for a tight layout\n",
    "plt.show()"
   ]
  }
 ],
 "metadata": {
  "kernelspec": {
   "display_name": "venv",
   "language": "python",
   "name": "python3"
  },
  "language_info": {
   "codemirror_mode": {
    "name": "ipython",
    "version": 3
   },
   "file_extension": ".py",
   "mimetype": "text/x-python",
   "name": "python",
   "nbconvert_exporter": "python",
   "pygments_lexer": "ipython3",
   "version": "3.12.3"
  }
 },
 "nbformat": 4,
 "nbformat_minor": 5
}
